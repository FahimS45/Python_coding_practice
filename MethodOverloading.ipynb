{
 "cells": [
  {
   "cell_type": "code",
   "execution_count": 1,
   "metadata": {},
   "outputs": [
    {
     "name": "stdout",
     "output_type": "stream",
     "text": [
      "100\n"
     ]
    }
   ],
   "source": [
    "class my_calculator:\n",
    "    def product(self, num_1, num_2=None, num_3=None):\n",
    "        if num_1 != None and num_2 != None and num_3 != None:\n",
    "            print(num_1*num_2*num_3)\n",
    "        elif num_1 != None and num_2 != None:\n",
    "            print(num_1*num_2)\n",
    "        else:\n",
    "            print(1*num_1)\n",
    "#=========================================================\n",
    "            \n",
    "c1 = my_calculator()\n",
    "c1.product(2, 5,10)"
   ]
  },
  {
   "cell_type": "code",
   "execution_count": 2,
   "metadata": {},
   "outputs": [
    {
     "name": "stdout",
     "output_type": "stream",
     "text": [
      "Requirement already satisfied: multipledispatch in c:\\users\\tfahi\\appdata\\local\\programs\\python\\python311\\lib\\site-packages (1.0.0)Note: you may need to restart the kernel to use updated packages.\n",
      "\n"
     ]
    },
    {
     "name": "stderr",
     "output_type": "stream",
     "text": [
      "\n",
      "[notice] A new release of pip is available: 23.1.2 -> 24.0\n",
      "[notice] To update, run: python.exe -m pip install --upgrade pip\n"
     ]
    }
   ],
   "source": [
    "pip install multipledispatch"
   ]
  },
  {
   "cell_type": "code",
   "execution_count": 3,
   "metadata": {},
   "outputs": [],
   "source": [
    "from multipledispatch import dispatch\n",
    "\n",
    "class my_cal:\n",
    "\n",
    "    @dispatch(int)\n",
    "    def prod(self, num_1):\n",
    "        print(num_1)\n",
    "\n",
    "    @dispatch(int, int)\n",
    "    def prod(self, num_1, num_2):\n",
    "        print(num_1*num_2)\n",
    "    \n",
    "    @dispatch(int, int, int)\n",
    "    def prod(self, num_1, num_2, num_3):\n",
    "        print(num_1*num_2*num_3)"
   ]
  },
  {
   "cell_type": "code",
   "execution_count": 4,
   "metadata": {},
   "outputs": [
    {
     "name": "stdout",
     "output_type": "stream",
     "text": [
      "552\n"
     ]
    }
   ],
   "source": [
    "c2 = my_cal\n",
    "c2.prod(4,23,6)"
   ]
  },
  {
   "cell_type": "code",
   "execution_count": 8,
   "metadata": {},
   "outputs": [
    {
     "data": {
      "text/plain": [
       "[12, 2, 3, 4, 5, 6]"
      ]
     },
     "execution_count": 8,
     "metadata": {},
     "output_type": "execute_result"
    }
   ],
   "source": [
    "a = (x, *y) = [int(i) for i in input('Pass your value: ').split()]\n",
    "a\n"
   ]
  },
  {
   "cell_type": "code",
   "execution_count": 9,
   "metadata": {},
   "outputs": [],
   "source": [
    "class my_cal2:\n",
    "    def pro(self, numbers):\n",
    "\n",
    "        product = 1\n",
    "        for each in numbers:\n",
    "            product = product * each\n",
    "        print(product)"
   ]
  },
  {
   "cell_type": "code",
   "execution_count": 15,
   "metadata": {},
   "outputs": [
    {
     "name": "stdout",
     "output_type": "stream",
     "text": [
      "<class 'list'>\n",
      "[1, 2, 3, 4, 10, 20]\n",
      "4800\n"
     ]
    }
   ],
   "source": [
    "c3 = my_cal2()\n",
    "a = (x,*y) = [int(i) for i in input('Pass your values with a space in between: ').split()]\n",
    "print(type(a))\n",
    "print(a)\n",
    "c3.pro(a)\n"
   ]
  },
  {
   "cell_type": "code",
   "execution_count": 26,
   "metadata": {},
   "outputs": [],
   "source": [
    "class my_cal3:\n",
    "    def pro_(self, *numbers):\n",
    "        product = 1\n",
    "        for each in numbers:\n",
    "            product *= each\n",
    "        print(product)"
   ]
  },
  {
   "cell_type": "code",
   "execution_count": 29,
   "metadata": {},
   "outputs": [
    {
     "name": "stdout",
     "output_type": "stream",
     "text": [
      "240\n"
     ]
    }
   ],
   "source": [
    "c4 = my_cal3()\n",
    "c4.pro_(2, 4, 5, 6)"
   ]
  }
 ],
 "metadata": {
  "kernelspec": {
   "display_name": "Python 3",
   "language": "python",
   "name": "python3"
  },
  "language_info": {
   "codemirror_mode": {
    "name": "ipython",
    "version": 3
   },
   "file_extension": ".py",
   "mimetype": "text/x-python",
   "name": "python",
   "nbconvert_exporter": "python",
   "pygments_lexer": "ipython3",
   "version": "3.11.4"
  }
 },
 "nbformat": 4,
 "nbformat_minor": 2
}
