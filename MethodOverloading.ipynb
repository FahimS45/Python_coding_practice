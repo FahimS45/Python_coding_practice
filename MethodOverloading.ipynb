{
 "cells": [
  {
   "cell_type": "code",
   "execution_count": 3,
   "metadata": {},
   "outputs": [
    {
     "name": "stdout",
     "output_type": "stream",
     "text": [
      "100\n"
     ]
    }
   ],
   "source": [
    "class my_calculator:\n",
    "    def product(self, num_1, num_2=None, num_3=None):\n",
    "        if num_1 != None and num_2 != None and num_3 != None:\n",
    "            print(num_1*num_2*num_3)\n",
    "        elif num_1 != None and num_2 != None:\n",
    "            print(num_1*num_2)\n",
    "        else:\n",
    "            print(1*num_1)\n",
    "#=========================================================\n",
    "            \n",
    "c1 = my_calculator()\n",
    "c1.product(2, 5,10)"
   ]
  },
  {
   "cell_type": "code",
   "execution_count": 5,
   "metadata": {},
   "outputs": [
    {
     "name": "stdout",
     "output_type": "stream",
     "text": [
      "Collecting multipledispatchNote: you may need to restart the kernel to use updated packages.\n"
     ]
    },
    {
     "name": "stderr",
     "output_type": "stream",
     "text": [
      "\n",
      "[notice] A new release of pip is available: 23.1.2 -> 24.0\n",
      "[notice] To update, run: python.exe -m pip install --upgrade pip\n"
     ]
    },
    {
     "name": "stdout",
     "output_type": "stream",
     "text": [
      "\n",
      "  Downloading multipledispatch-1.0.0-py3-none-any.whl (12 kB)\n",
      "Installing collected packages: multipledispatch\n",
      "Successfully installed multipledispatch-1.0.0\n"
     ]
    }
   ],
   "source": [
    "pip install multipledispatch"
   ]
  },
  {
   "cell_type": "code",
   "execution_count": 8,
   "metadata": {},
   "outputs": [],
   "source": [
    "from multipledispatch import dispatch\n",
    "\n",
    "class my_cal:\n",
    "\n",
    "    @dispatch(int)\n",
    "    def prod(self, num_1):\n",
    "        print(num_1)\n",
    "\n",
    "    @dispatch(int, int)\n",
    "    def prod(self, num_1, num_2):\n",
    "        print(num_1*num_2)\n",
    "    \n",
    "    @dispatch(int, int, int)\n",
    "    def prod(self, num_1, num_2, num_3):\n",
    "        print(num_1*num_2*num_3)"
   ]
  },
  {
   "cell_type": "code",
   "execution_count": 11,
   "metadata": {},
   "outputs": [
    {
     "name": "stdout",
     "output_type": "stream",
     "text": [
      "552\n"
     ]
    }
   ],
   "source": [
    "c2 = my_cal\n",
    "c2.prod(4,23,6)"
   ]
  }
 ],
 "metadata": {
  "kernelspec": {
   "display_name": "Python 3",
   "language": "python",
   "name": "python3"
  },
  "language_info": {
   "codemirror_mode": {
    "name": "ipython",
    "version": 3
   },
   "file_extension": ".py",
   "mimetype": "text/x-python",
   "name": "python",
   "nbconvert_exporter": "python",
   "pygments_lexer": "ipython3",
   "version": "3.11.4"
  }
 },
 "nbformat": 4,
 "nbformat_minor": 2
}
