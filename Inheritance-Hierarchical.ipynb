{
 "cells": [
  {
   "cell_type": "code",
   "execution_count": 15,
   "metadata": {},
   "outputs": [],
   "source": [
    "class Student:\n",
    "    uni_name = \"KUET\"\n",
    "    def __init__(self, name, id):\n",
    "        self.name = name\n",
    "        self.id = id\n",
    "    \n",
    "    def details(self):\n",
    "        print(f\"University: {Student.uni_name}\\nName: {self.name}\\nID: {self.id}\")\n",
    "\n",
    "class CSEStudent(Student):\n",
    "    def __init__ (self, name, id, labs):\n",
    "        super().__init__(name, id)       # Calling method from parent class using a special \"super()\" function.\n",
    "        self.total_labs = labs\n",
    "\n",
    "    def degree(self):\n",
    "        print(f\"{self.name} is about to become a CSE Engineer from {Student.uni_name}.\")\n",
    "\n",
    "class BBAStudent(Student):\n",
    "\n",
    "    def degree(self):\n",
    "        print(f\"{self.name} is about to become a Business Graduate from {Student.uni_name}\") "
   ]
  },
  {
   "cell_type": "code",
   "execution_count": 16,
   "metadata": {},
   "outputs": [],
   "source": [
    "s1 = CSEStudent('Bob', 13, 4)\n",
    "s2 = BBAStudent(\"Carol\", 46)\n"
   ]
  },
  {
   "cell_type": "code",
   "execution_count": 18,
   "metadata": {},
   "outputs": [
    {
     "name": "stdout",
     "output_type": "stream",
     "text": [
      "University: KUET\n",
      "Name: Carol\n",
      "ID: 46\n"
     ]
    }
   ],
   "source": [
    "s2.details()"
   ]
  },
  {
   "cell_type": "code",
   "execution_count": 17,
   "metadata": {},
   "outputs": [
    {
     "name": "stdout",
     "output_type": "stream",
     "text": [
      "Bob is about to become a CSE Engineer from KUET.\n"
     ]
    }
   ],
   "source": [
    "s1.degree()"
   ]
  }
 ],
 "metadata": {
  "kernelspec": {
   "display_name": "Python 3",
   "language": "python",
   "name": "python3"
  },
  "language_info": {
   "codemirror_mode": {
    "name": "ipython",
    "version": 3
   },
   "file_extension": ".py",
   "mimetype": "text/x-python",
   "name": "python",
   "nbconvert_exporter": "python",
   "pygments_lexer": "ipython3",
   "version": "3.11.4"
  }
 },
 "nbformat": 4,
 "nbformat_minor": 2
}
