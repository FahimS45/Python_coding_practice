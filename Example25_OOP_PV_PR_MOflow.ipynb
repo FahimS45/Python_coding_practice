{
 "cells": [
  {
   "cell_type": "code",
   "execution_count": 82,
   "metadata": {},
   "outputs": [],
   "source": [
    "class Vaccine:\n",
    "    def __init__(self, vac_name, vac_country, vac_period):\n",
    "\n",
    "        self.vac_name = vac_name\n",
    "        self.vac_country = vac_country\n",
    "        self.vac_period = vac_period\n",
    "\n",
    "class Person:\n",
    "    def __init__(self, p_name, p_age, p_type='General Citizen'):\n",
    "\n",
    "        self.pname = p_name\n",
    "        self.page = p_age\n",
    "        self.ptype = p_type\n",
    "        self.first_dose = False\n",
    "        self.second_dose = False\n",
    "        self.vac = ''\n",
    "\n",
    "    def pushVaccine(self, vac, dose_number='1st Dose'):\n",
    "\n",
    "        if dose_number == '1st Dose':\n",
    "            if self.page <25 and self.ptype != 'Student':\n",
    "                print(f'Sorry {self.pname}, minimum age for taking vaccine is 25 years now.')\n",
    "\n",
    "            else:\n",
    "                self.vac = vac\n",
    "                self.first_dose = True\n",
    "                print(f'1st dose is done for {self.pname}.')\n",
    "        \n",
    "        elif self.first_dose == True:\n",
    "\n",
    "            if self.vac.vac_name != vac.vac_name:\n",
    "                print(f\"Sorry {self.pname}, you can't take 2 different vaccines.\")\n",
    "            \n",
    "            else:\n",
    "                self.second_dose = True\n",
    "                print(f'2nd dose is done for {self.pname}.')\n",
    "\n",
    "        else:\n",
    "            print('Please, complete your 1st dose')\n",
    "\n",
    "    def showDetails(self):\n",
    "\n",
    "        if self.second_dose == True:\n",
    "            print(f'Name: {self.pname}\\nAge: {self.page}\\nType: {self.ptype}\\nVaccine name: {self.vac.vac_name}\\n1st dose: Given\\n2nd dose: Given')\n",
    "            \n",
    "        elif self.first_dose == True:\n",
    "            print(f'Name: {self.pname}\\nAge: {self.page}\\nType: {self.ptype}\\nVaccine name: {self.vac.vac_name}\\n1st dose: Given\\n2nd dose: Please come after {self.vac.vac_period} days.')\n",
    "\n",
    "        else:\n",
    "            print(f'Name: {self.pname}\\nAge: {self.page}\\nType: {self.ptype}\\nVaccine name: Missing\\n1st dose: Not taken yet.\\n2nd dose: Not entitled yet.')\n"
   ]
  },
  {
   "cell_type": "markdown",
   "metadata": {},
   "source": [
    " if self.occupation != 'Student': \n",
    "\n",
    "            if self.age < 25:\n",
    "                print(f'Sorry {self.name}, minimum age for taking vaccine is 25 years now.')\n",
    "            \n",
    "            elif dose_number == None or dose_number == \"1st Dose\":\n",
    "                self.curr_vac_age = vac.vac_period\n",
    "                self.push_vac_name_1 = vac.vac_name\n",
    "                self.dose_no = '1st Dose'\n",
    "                print(f'{self.dose_no} is done for {self.name}.')\n",
    "\n",
    "            elif vac.vac_name != self.push_vac_name_1:\n",
    "                print(f\"Sorry {self.name}, you can't take 2 different vaccines.\")\n",
    "\n",
    "            else:\n",
    "                self.push_vac_name_2 = vac.vac_name\n",
    "                self.dose_no = dose_number\n",
    "                print(f'{self.dose_no} is done for {self.name}.')\n",
    "            \n",
    "        elif dose_number == None or dose_number == \"1st Dose\":\n",
    "            self.curr_vac_age = vac.vac_period\n",
    "            self.push_vac_name_1 = vac.vac_name\n",
    "            self.dose_no = '1st Dose'\n",
    "            print(f'{self.dose_no} is done for {self.name}.')\n",
    "\n",
    "        elif vac.vac_name != self.push_vac_name_1:\n",
    "            print(f\"Sorry {self.name}, you can't take 2 different vaccines.\")\n",
    "\n",
    "        else:\n",
    "            self.push_vac_name_2 = vac.vac_name\n",
    "            self.dose_no = dose_number\n",
    "            print(f'{self.dose_no} is done for {self.name}.')\n",
    "\n",
    "    def showDetails(self):\n",
    "\n",
    "        if self.dose_no == '2nd Dose':\n",
    "            print(f'Name: {self.name}\\nAge: {self.age}\\nType: {self.occupation}\\nVaccine name: {self.push_vac_name_1}\\n1st dose: Given\\n2nd dose: Given')\n",
    "            \n",
    "        elif self.dose_no == '1st Dose':\n",
    "            print(f'Name: {self.name}\\nAge: {self.age}\\nType: {self.occupation}\\nVaccine name: {self.push_vac_name_1}\\n1st dose: Given\\n2nd dose: Please come after {self.curr_vac_age} days.')\n",
    "\n",
    "        else:\n",
    "            print(f'Name: {self.name}\\nAge: {self.age}\\nType: {self.occupation}\\nVaccine name: {self.push_vac_name_1}\\n1st dose: Not taken yet.\\n2nd dose: Not entitled yet.')\n"
   ]
  },
  {
   "cell_type": "code",
   "execution_count": 83,
   "metadata": {},
   "outputs": [
    {
     "name": "stdout",
     "output_type": "stream",
     "text": [
      "Name: Bob\n",
      "Age: 21\n",
      "Type: Student\n",
      "Vaccine name: Missing\n",
      "1st dose: Not taken yet.\n",
      "2nd dose: Not entitled yet.\n"
     ]
    }
   ],
   "source": [
    "astra = Vaccine(\"AstraZeneca\", \"UK\", 60)\n",
    "modr = Vaccine(\"Moderna\", \"UK\", 30)\n",
    "sin = Vaccine(\"Sinopharm\", \"China\", 30)\n",
    "\n",
    "p1 = Person(\"Bob\", 21, \"Student\")\n",
    "p1.showDetails()"
   ]
  },
  {
   "cell_type": "code",
   "execution_count": 84,
   "metadata": {},
   "outputs": [
    {
     "name": "stdout",
     "output_type": "stream",
     "text": [
      "1st dose is done for Bob.\n"
     ]
    }
   ],
   "source": [
    "p1.pushVaccine(astra)\n"
   ]
  },
  {
   "cell_type": "code",
   "execution_count": 85,
   "metadata": {},
   "outputs": [
    {
     "name": "stdout",
     "output_type": "stream",
     "text": [
      "Name: Bob\n",
      "Age: 21\n",
      "Type: Student\n",
      "Vaccine name: AstraZeneca\n",
      "1st dose: Given\n",
      "2nd dose: Please come after 60 days.\n"
     ]
    }
   ],
   "source": [
    "p1.showDetails()"
   ]
  },
  {
   "cell_type": "code",
   "execution_count": 86,
   "metadata": {},
   "outputs": [
    {
     "name": "stdout",
     "output_type": "stream",
     "text": [
      "Sorry Bob, you can't take 2 different vaccines.\n"
     ]
    }
   ],
   "source": [
    "p1.pushVaccine(sin, \"2nd Dose\")"
   ]
  },
  {
   "cell_type": "code",
   "execution_count": 87,
   "metadata": {},
   "outputs": [
    {
     "name": "stdout",
     "output_type": "stream",
     "text": [
      "2nd dose is done for Bob.\n"
     ]
    }
   ],
   "source": [
    "p1.pushVaccine(astra, \"2nd Dose\")"
   ]
  },
  {
   "cell_type": "code",
   "execution_count": 88,
   "metadata": {},
   "outputs": [
    {
     "name": "stdout",
     "output_type": "stream",
     "text": [
      "Name: Bob\n",
      "Age: 21\n",
      "Type: Student\n",
      "Vaccine name: AstraZeneca\n",
      "1st dose: Given\n",
      "2nd dose: Given\n"
     ]
    }
   ],
   "source": [
    "p1.showDetails()"
   ]
  },
  {
   "cell_type": "code",
   "execution_count": 89,
   "metadata": {},
   "outputs": [
    {
     "name": "stdout",
     "output_type": "stream",
     "text": [
      "Sorry Carol, minimum age for taking vaccine is 25 years now.\n"
     ]
    }
   ],
   "source": [
    "p2 = Person(\"Carol\", 23, \"Actor\")\n",
    "\n",
    "p2.pushVaccine(sin)"
   ]
  },
  {
   "cell_type": "code",
   "execution_count": 90,
   "metadata": {},
   "outputs": [
    {
     "name": "stdout",
     "output_type": "stream",
     "text": [
      "1st dose is done for David.\n"
     ]
    }
   ],
   "source": [
    "p3 = Person(\"David\", 34)\n",
    "\n",
    "p3.pushVaccine(modr)"
   ]
  },
  {
   "cell_type": "code",
   "execution_count": 91,
   "metadata": {},
   "outputs": [
    {
     "name": "stdout",
     "output_type": "stream",
     "text": [
      "Name: David\n",
      "Age: 34\n",
      "Type: General Citizen\n",
      "Vaccine name: Moderna\n",
      "1st dose: Given\n",
      "2nd dose: Please come after 30 days.\n"
     ]
    }
   ],
   "source": [
    "p3.showDetails()"
   ]
  },
  {
   "cell_type": "code",
   "execution_count": 92,
   "metadata": {},
   "outputs": [
    {
     "name": "stdout",
     "output_type": "stream",
     "text": [
      "Please, complete your 1st dose\n"
     ]
    }
   ],
   "source": [
    "p4 = Person(\"Kuddus\", 45)\n",
    "\n",
    "p4.pushVaccine(sin, '2md Dose')"
   ]
  }
 ],
 "metadata": {
  "kernelspec": {
   "display_name": "Python 3",
   "language": "python",
   "name": "python3"
  },
  "language_info": {
   "codemirror_mode": {
    "name": "ipython",
    "version": 3
   },
   "file_extension": ".py",
   "mimetype": "text/x-python",
   "name": "python",
   "nbconvert_exporter": "python",
   "pygments_lexer": "ipython3",
   "version": "3.11.4"
  }
 },
 "nbformat": 4,
 "nbformat_minor": 2
}
