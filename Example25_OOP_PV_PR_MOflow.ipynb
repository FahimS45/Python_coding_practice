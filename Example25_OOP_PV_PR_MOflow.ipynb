{
 "cells": [
  {
   "cell_type": "code",
   "execution_count": null,
   "metadata": {},
   "outputs": [],
   "source": [
    "from multipledispatch import dispatch as dp\n",
    "\n",
    "class Vaccine:\n",
    "    def __init__(self, vac_name, vac_country, vac_period):\n",
    "\n",
    "        self.vac_name = vac_name\n",
    "        self.vac_country = vac_country\n",
    "        self.vac_period = vac_period\n",
    "\n",
    "class Person:\n",
    "    def __init__(self, *info):\n",
    "\n",
    "        self.first_dose = 'Given'\n",
    "        self.type = 'General Citizen'\n",
    "\n",
    "        if len(info) == 3:\n",
    "            self.name = info[0]\n",
    "            self.age = info[1]\n",
    "            self.occupation = info[2]\n",
    "\n",
    "        elif len(info) == 2:\n",
    "            self.name = info[0]\n",
    "            self.age = info[1]\n",
    "\n",
    "    @dp(Vaccine, str)\n",
    "    def pushVaccine(self, vac: Vaccine, dose_number: str):\n",
    "\n",
    "        self.curr_vac_age = vac.vac_period\n",
    "        self.push_vac_name = vac.vac_name\n",
    "        self.dose_no = dose_number\n",
    "\n",
    "    @dp(Vaccine)\n",
    "    def pushVaccine(self, vac: Vaccine):\n",
    "\n",
    "        self.curr_vac_age = vac.vac_period\n",
    "        self.push_vac_name = vac.vac_name\n",
    "        self.dose_no = dose_number\n",
    "\n",
    "    def showDetails(self):\n"
   ]
  },
  {
   "cell_type": "code",
   "execution_count": 2,
   "metadata": {},
   "outputs": [
    {
     "name": "stdout",
     "output_type": "stream",
     "text": [
      "Here is a: 2 and here is b: 3\n"
     ]
    }
   ],
   "source": [
    "a =2\n",
    "b=3\n",
    "print(f'Here is a: {a} and here is b: {b}')"
   ]
  },
  {
   "cell_type": "code",
   "execution_count": 3,
   "metadata": {},
   "outputs": [
    {
     "name": "stdout",
     "output_type": "stream",
     "text": [
      "Dim\n"
     ]
    }
   ],
   "source": [
    "a = 'Dim'\n",
    "print(f'{a}')"
   ]
  },
  {
   "cell_type": "code",
   "execution_count": 4,
   "metadata": {},
   "outputs": [],
   "source": [
    "from multipledispatch import dispatch as dp"
   ]
  }
 ],
 "metadata": {
  "kernelspec": {
   "display_name": "Python 3",
   "language": "python",
   "name": "python3"
  },
  "language_info": {
   "codemirror_mode": {
    "name": "ipython",
    "version": 3
   },
   "file_extension": ".py",
   "mimetype": "text/x-python",
   "name": "python",
   "nbconvert_exporter": "python",
   "pygments_lexer": "ipython3",
   "version": "3.11.4"
  }
 },
 "nbformat": 4,
 "nbformat_minor": 2
}
