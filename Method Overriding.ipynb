{
 "cells": [
  {
   "cell_type": "code",
   "execution_count": 112,
   "metadata": {},
   "outputs": [],
   "source": [
    "class A:\n",
    "    def __init__(self, fam_name=None):\n",
    "        self.fam_name = fam_name\n",
    "\n",
    "    def family_busi(self, busi_name):\n",
    "        self.busi_name = busi_name\n",
    "\n",
    "    def family_prop(self, prop):\n",
    "        self.fam_prop = prop\n",
    "    \n",
    "    def fam_details(self):\n",
    "        print(f\"{self.fam_name} family's\\ntraditional business: {self.busi_name}\\nTotal property: {self.fam_prop}\")\n",
    "    \n",
    "class B(A):\n",
    "    def descent(self, des_name, num_child): \n",
    "        self.des_name = des_name\n",
    "        self.num_child = num_child\n",
    "        print(f'First descent of {self.fam_name} has been successfully created!')\n",
    "\n",
    "    def des_details(self, busi_name):\n",
    "        super().family_busi(self.busi_name)\n",
    "        print(f'{self.des_name} {self.fam_name} has {self.num_child} children and do {self.busi_name} for living.')\n",
    "\n",
    "    def family_busi(self, new_busi_name):\n",
    "        self.busi_name = new_busi_name\n",
    "        print(f'New family business has been successfully updated!')"
   ]
  },
  {
   "cell_type": "code",
   "execution_count": 113,
   "metadata": {},
   "outputs": [
    {
     "name": "stdout",
     "output_type": "stream",
     "text": [
      "Chawdhury family's\n",
      "traditional business: Exports&Imports\n",
      "Total property: USD1000000000\n"
     ]
    }
   ],
   "source": [
    "f1 = A('Chawdhury')\n",
    "f1.family_busi('Exports&Imports')\n",
    "f1.family_prop('USD1000000000')\n",
    "f1.fam_details()"
   ]
  },
  {
   "cell_type": "code",
   "execution_count": 114,
   "metadata": {},
   "outputs": [
    {
     "name": "stdout",
     "output_type": "stream",
     "text": [
      "First descent of Chawdhury has been successfully created!\n"
     ]
    }
   ],
   "source": [
    "d1 = B('Chawdhury')\n",
    "d1.descent('Kabir', 3)"
   ]
  },
  {
   "cell_type": "code",
   "execution_count": 115,
   "metadata": {},
   "outputs": [
    {
     "name": "stdout",
     "output_type": "stream",
     "text": [
      "Chawdhury family's\n",
      "traditional business: Exports&Imports\n",
      "Total property: USD1000000000\n"
     ]
    }
   ],
   "source": [
    "f1.fam_details()"
   ]
  },
  {
   "cell_type": "code",
   "execution_count": 116,
   "metadata": {},
   "outputs": [
    {
     "ename": "AttributeError",
     "evalue": "'B' object has no attribute 'busi_name'",
     "output_type": "error",
     "traceback": [
      "\u001b[1;31m---------------------------------------------------------------------------\u001b[0m",
      "\u001b[1;31mAttributeError\u001b[0m                            Traceback (most recent call last)",
      "Cell \u001b[1;32mIn[116], line 1\u001b[0m\n\u001b[1;32m----> 1\u001b[0m \u001b[43md1\u001b[49m\u001b[38;5;241;43m.\u001b[39;49m\u001b[43mdes_details\u001b[49m\u001b[43m(\u001b[49m\u001b[43mf1\u001b[49m\u001b[43m)\u001b[49m\n",
      "Cell \u001b[1;32mIn[112], line 21\u001b[0m, in \u001b[0;36mB.des_details\u001b[1;34m(self, busi_name)\u001b[0m\n\u001b[0;32m     20\u001b[0m \u001b[38;5;28;01mdef\u001b[39;00m \u001b[38;5;21mdes_details\u001b[39m(\u001b[38;5;28mself\u001b[39m, busi_name):\n\u001b[1;32m---> 21\u001b[0m     \u001b[38;5;28msuper\u001b[39m()\u001b[38;5;241m.\u001b[39mfamily_busi(\u001b[38;5;28;43mself\u001b[39;49m\u001b[38;5;241;43m.\u001b[39;49m\u001b[43mbusi_name\u001b[49m)\n\u001b[0;32m     22\u001b[0m     \u001b[38;5;28mprint\u001b[39m(\u001b[38;5;124mf\u001b[39m\u001b[38;5;124m'\u001b[39m\u001b[38;5;132;01m{\u001b[39;00m\u001b[38;5;28mself\u001b[39m\u001b[38;5;241m.\u001b[39mdes_name\u001b[38;5;132;01m}\u001b[39;00m\u001b[38;5;124m \u001b[39m\u001b[38;5;132;01m{\u001b[39;00m\u001b[38;5;28mself\u001b[39m\u001b[38;5;241m.\u001b[39mfam_name\u001b[38;5;132;01m}\u001b[39;00m\u001b[38;5;124m has \u001b[39m\u001b[38;5;132;01m{\u001b[39;00m\u001b[38;5;28mself\u001b[39m\u001b[38;5;241m.\u001b[39mnum_child\u001b[38;5;132;01m}\u001b[39;00m\u001b[38;5;124m children and do \u001b[39m\u001b[38;5;132;01m{\u001b[39;00m\u001b[38;5;28mself\u001b[39m\u001b[38;5;241m.\u001b[39mbusi_name\u001b[38;5;132;01m}\u001b[39;00m\u001b[38;5;124m for living.\u001b[39m\u001b[38;5;124m'\u001b[39m)\n",
      "\u001b[1;31mAttributeError\u001b[0m: 'B' object has no attribute 'busi_name'"
     ]
    }
   ],
   "source": [
    "d1.des_details(f1)"
   ]
  },
  {
   "cell_type": "code",
   "execution_count": null,
   "metadata": {},
   "outputs": [
    {
     "name": "stdout",
     "output_type": "stream",
     "text": [
      "New family business has been successfully updated!\n"
     ]
    }
   ],
   "source": [
    "d1.family_busi('Drug Business')"
   ]
  },
  {
   "cell_type": "code",
   "execution_count": null,
   "metadata": {},
   "outputs": [
    {
     "name": "stdout",
     "output_type": "stream",
     "text": [
      "Kabir Chawdhury has 3children and do Exports&Imports for living.\n"
     ]
    }
   ],
   "source": [
    "d1.des_details(f1)"
   ]
  }
 ],
 "metadata": {
  "kernelspec": {
   "display_name": "Python 3",
   "language": "python",
   "name": "python3"
  },
  "language_info": {
   "codemirror_mode": {
    "name": "ipython",
    "version": 3
   },
   "file_extension": ".py",
   "mimetype": "text/x-python",
   "name": "python",
   "nbconvert_exporter": "python",
   "pygments_lexer": "ipython3",
   "version": "3.11.4"
  }
 },
 "nbformat": 4,
 "nbformat_minor": 2
}
