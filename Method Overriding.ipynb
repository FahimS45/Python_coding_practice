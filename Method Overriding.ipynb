{
 "cells": [
  {
   "cell_type": "code",
   "execution_count": 16,
   "metadata": {},
   "outputs": [],
   "source": [
    "class A:\n",
    "    def __init__(self, fam_name=None):\n",
    "        self.fam_name = fam_name\n",
    "\n",
    "    def family_busi(self, busi_name):\n",
    "        self.busi_name = busi_name\n",
    "\n",
    "    def family_prop(self, prop):\n",
    "        self.fam_prop = prop\n",
    "    \n",
    "    def fam_details(self):\n",
    "        print(f\"{self.fam_name} family's\\ntraditional business: {self.busi_name}\\nTotal property: {self.fam_prop}\")\n",
    "    \n",
    "class B(A):\n",
    "    def descent(self, des_name, num_child): \n",
    "        self.des_name = des_name\n",
    "        self.num_child = num_child\n",
    "        print(f'First descent of {self.fam_name} has been successfully created!')\n",
    "\n",
    "    def des_details(self, obj):\n",
    "        super().family_busi(obj.busi_name)\n",
    "        super().family_prop(obj.fam_prop)\n",
    "        print(f'{self.des_name} {self.fam_name} has {self.num_child} children and do {self.busi_name} for living.\\nTotal inherited property: {self.fam_prop}')\n",
    "\n",
    "    def family_busi(self, new_busi_name):\n",
    "        self.busi_name = new_busi_name\n",
    "        print(f'New family business has been successfully updated!')"
   ]
  },
  {
   "cell_type": "code",
   "execution_count": 17,
   "metadata": {},
   "outputs": [
    {
     "name": "stdout",
     "output_type": "stream",
     "text": [
      "Chawdhury family's\n",
      "traditional business: Exports&Imports\n",
      "Total property: USD1000000000\n"
     ]
    }
   ],
   "source": [
    "f1 = A('Chawdhury')\n",
    "f1.family_busi('Exports&Imports')\n",
    "f1.family_prop('USD1000000000')\n",
    "f1.fam_details()"
   ]
  },
  {
   "cell_type": "code",
   "execution_count": 18,
   "metadata": {},
   "outputs": [
    {
     "name": "stdout",
     "output_type": "stream",
     "text": [
      "First descent of Chawdhury has been successfully created!\n"
     ]
    }
   ],
   "source": [
    "d1 = B('Chawdhury')\n",
    "d1.descent('Kabir', 3)"
   ]
  },
  {
   "cell_type": "code",
   "execution_count": 19,
   "metadata": {},
   "outputs": [
    {
     "name": "stdout",
     "output_type": "stream",
     "text": [
      "Chawdhury family's\n",
      "traditional business: Exports&Imports\n",
      "Total property: USD1000000000\n"
     ]
    }
   ],
   "source": [
    "f1.fam_details()"
   ]
  },
  {
   "cell_type": "code",
   "execution_count": 26,
   "metadata": {},
   "outputs": [
    {
     "name": "stdout",
     "output_type": "stream",
     "text": [
      "Kabir Chawdhury has 3 children and do Exports&Imports for living.\n",
      "Total inherited property: USD1000000000\n"
     ]
    }
   ],
   "source": [
    "d1.des_details(f1)"
   ]
  },
  {
   "cell_type": "code",
   "execution_count": 27,
   "metadata": {},
   "outputs": [
    {
     "name": "stdout",
     "output_type": "stream",
     "text": [
      "Chawdhury family's\n",
      "traditional business: Exports&Imports\n",
      "Total property: USD1000000000\n"
     ]
    }
   ],
   "source": [
    "d1.fam_details()"
   ]
  },
  {
   "cell_type": "code",
   "execution_count": 33,
   "metadata": {},
   "outputs": [
    {
     "name": "stdout",
     "output_type": "stream",
     "text": [
      "New family business has been successfully updated!\n"
     ]
    }
   ],
   "source": [
    "d1.family_busi('Drug Business')"
   ]
  },
  {
   "cell_type": "code",
   "execution_count": 29,
   "metadata": {},
   "outputs": [
    {
     "data": {
      "text/plain": [
       "'Drug Business'"
      ]
     },
     "execution_count": 29,
     "metadata": {},
     "output_type": "execute_result"
    }
   ],
   "source": [
    "d1.busi_name"
   ]
  },
  {
   "cell_type": "code",
   "execution_count": 34,
   "metadata": {},
   "outputs": [
    {
     "name": "stdout",
     "output_type": "stream",
     "text": [
      "Kabir Chawdhury has 3 children and do Drug Business for living.\n",
      "Total inherited property: USD1000000000\n"
     ]
    }
   ],
   "source": [
    "d1.des_details(d1)"
   ]
  },
  {
   "cell_type": "code",
   "execution_count": 35,
   "metadata": {},
   "outputs": [
    {
     "name": "stdout",
     "output_type": "stream",
     "text": [
      "Kabir Chawdhury has 3 children and do Exports&Imports for living.\n",
      "Total inherited property: USD1000000000\n"
     ]
    }
   ],
   "source": [
    "d1.des_details(f1)"
   ]
  }
 ],
 "metadata": {
  "kernelspec": {
   "display_name": "Python 3",
   "language": "python",
   "name": "python3"
  },
  "language_info": {
   "codemirror_mode": {
    "name": "ipython",
    "version": 3
   },
   "file_extension": ".py",
   "mimetype": "text/x-python",
   "name": "python",
   "nbconvert_exporter": "python",
   "pygments_lexer": "ipython3",
   "version": "3.11.4"
  }
 },
 "nbformat": 4,
 "nbformat_minor": 2
}
