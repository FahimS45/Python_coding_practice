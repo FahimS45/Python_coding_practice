{
 "cells": [
  {
   "cell_type": "code",
   "execution_count": 40,
   "metadata": {},
   "outputs": [],
   "source": [
    "from abc import ABC, abstractmethod "
   ]
  },
  {
   "cell_type": "code",
   "execution_count": 41,
   "metadata": {},
   "outputs": [
    {
     "name": "stdout",
     "output_type": "stream",
     "text": [
      "If you want to see the area of the triangle, please input the base and the height of the triangle.\n",
      "For circumference, please input the values of the 3 legs of the triangle.\n"
     ]
    }
   ],
   "source": [
    "class Geometry(ABC):\n",
    "    def __init__ (self, side1, side2=None, side3=None):\n",
    "        self.side1 = side1\n",
    "        self.side2 = side2\n",
    "        self.side3 = side3\n",
    "        \n",
    "    def __str__(self):\n",
    "        return 'An bbject has been created!'\n",
    "\n",
    "    @abstractmethod\n",
    "    def area(self):\n",
    "        pass\n",
    "\n",
    "    @abstractmethod\n",
    "    def circumference(self):\n",
    "        pass\n",
    "\n",
    "class rectangle(Geometry):\n",
    "    def area(self):\n",
    "        result = self.side1 * self.side2\n",
    "        print(f'The area of the rectangle is: {result}')\n",
    "\n",
    "    def circumference(self):\n",
    "        result = (2*self.side1) + (2*self.side2)\n",
    "        print(f'The circumference of the rectangle is: {result}')\n",
    "\n",
    "class square(Geometry):\n",
    "    def area(self):\n",
    "        result = self.side1**2\n",
    "        print(f'The are of the square is: {result}')\n",
    "\n",
    "    def circumference(self):\n",
    "        result = 4*self.side1\n",
    "        print(f'The circumference of the square is: {result}')\n",
    "\n",
    "class triangle(Geometry):\n",
    "\n",
    "    print(f'If you want to see the area of the triangle, please input the base and the height of the triangle.\\nFor circumference, please input the values of the 3 legs of the triangle.')\n",
    "\n",
    "    def area(self):\n",
    "        result = (1/2) * self.side1 * self.side2\n",
    "        print(f'The area of the triangle is: {result}')\n",
    "\n",
    "    def circumference(self):\n",
    "        result = (self.side1 + self.side2 + self.side3)\n",
    "        print(f'The circumference of the triangle is: {result}')\n",
    "    \n",
    "\n",
    "\n",
    "\n"
   ]
  },
  {
   "cell_type": "code",
   "execution_count": 42,
   "metadata": {},
   "outputs": [
    {
     "name": "stdout",
     "output_type": "stream",
     "text": [
      "An bbject has been created!\n",
      "The are of the square is: 25\n",
      "The circumference of the square is: 20\n"
     ]
    }
   ],
   "source": [
    "s = square(5)\n",
    "print(s)\n",
    "s.area()\n",
    "s.circumference()"
   ]
  },
  {
   "cell_type": "code",
   "execution_count": 43,
   "metadata": {},
   "outputs": [
    {
     "name": "stdout",
     "output_type": "stream",
     "text": [
      "An bbject has been created!\n",
      "The area of the rectangle is: 35\n",
      "The circumference of the rectangle is: 24\n"
     ]
    }
   ],
   "source": [
    "r = rectangle(5,7)\n",
    "print(r)\n",
    "r.area()\n",
    "r.circumference()"
   ]
  },
  {
   "cell_type": "code",
   "execution_count": 44,
   "metadata": {},
   "outputs": [
    {
     "name": "stdout",
     "output_type": "stream",
     "text": [
      "An bbject has been created!\n",
      "The area of the triangle is: 50.0\n",
      "The circumference of the triangle is: 32\n"
     ]
    }
   ],
   "source": [
    "t = triangle(10,10,12)\n",
    "print(t)\n",
    "t.area()\n",
    "t.circumference()"
   ]
  }
 ],
 "metadata": {
  "kernelspec": {
   "display_name": "Python 3",
   "language": "python",
   "name": "python3"
  },
  "language_info": {
   "codemirror_mode": {
    "name": "ipython",
    "version": 3
   },
   "file_extension": ".py",
   "mimetype": "text/x-python",
   "name": "python",
   "nbconvert_exporter": "python",
   "pygments_lexer": "ipython3",
   "version": "3.11.4"
  }
 },
 "nbformat": 4,
 "nbformat_minor": 2
}
