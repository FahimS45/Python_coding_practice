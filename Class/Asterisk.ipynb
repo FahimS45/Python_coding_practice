{
 "cells": [
  {
   "cell_type": "code",
   "execution_count": 21,
   "metadata": {},
   "outputs": [
    {
     "name": "stdout",
     "output_type": "stream",
     "text": [
      "*\n",
      "**\n",
      "***\n",
      "****\n",
      "========================\n",
      "****\n",
      "***\n",
      "**\n",
      "*\n",
      "========================\n",
      "    *\n",
      "   **\n",
      "  ***\n",
      " ****\n",
      "========================\n",
      " ****\n",
      "  ***\n",
      "   **\n",
      "    *\n"
     ]
    }
   ],
   "source": [
    "y = int(input('Please enter your digit: '))\n",
    "x = y\n",
    "\n",
    "for each in range(x):\n",
    "    each += 1\n",
    "    print(each * '*')\n",
    "\n",
    "print(f'========================')\n",
    "x = y\n",
    "\n",
    "for each in range(x):\n",
    "    print(x * '*')\n",
    "    x -= 1\n",
    "\n",
    "print(f'========================')\n",
    "x = y\n",
    "\n",
    "for each in range(x):\n",
    "    each += 1\n",
    "    space = x - each\n",
    "    print(space * ' ', each * '*')\n",
    "\n",
    "print(f'========================')\n",
    "x = y\n",
    "\n",
    "for each in range(x):\n",
    "    print(each * ' ', x * '*')\n",
    "    x -= 1\n"
   ]
  },
  {
   "cell_type": "code",
   "execution_count": 10,
   "metadata": {},
   "outputs": [
    {
     "name": "stdout",
     "output_type": "stream",
     "text": [
      "    *\n",
      "   **\n",
      "  ***\n",
      " ****\n"
     ]
    }
   ],
   "source": [
    "x = int(input('Please enter your digit: '))\n",
    "\n",
    "for each in range(x):\n",
    "    each += 1\n",
    "    space = x - each\n",
    "    print(space * ' ', each * '*')"
   ]
  },
  {
   "cell_type": "code",
   "execution_count": 11,
   "metadata": {},
   "outputs": [
    {
     "name": "stdout",
     "output_type": "stream",
     "text": [
      "****\n",
      "***\n",
      "**\n",
      "*\n"
     ]
    }
   ],
   "source": [
    "x = int(input('Please enter your digit: '))\n",
    "\n",
    "for each in range(x):\n",
    "    print(x * '*')\n",
    "    x -= 1"
   ]
  },
  {
   "cell_type": "code",
   "execution_count": 14,
   "metadata": {},
   "outputs": [
    {
     "name": "stdout",
     "output_type": "stream",
     "text": [
      " ****\n",
      "  ***\n",
      "   **\n",
      "    *\n"
     ]
    }
   ],
   "source": [
    "x = int(input('Please enter your digit: '))\n",
    "\n",
    "for each in range(x):\n",
    "    print(each * ' ', x * '*')\n",
    "    x -= 1"
   ]
  }
 ],
 "metadata": {
  "kernelspec": {
   "display_name": "Python 3",
   "language": "python",
   "name": "python3"
  },
  "language_info": {
   "codemirror_mode": {
    "name": "ipython",
    "version": 3
   },
   "file_extension": ".py",
   "mimetype": "text/x-python",
   "name": "python",
   "nbconvert_exporter": "python",
   "pygments_lexer": "ipython3",
   "version": "3.11.4"
  }
 },
 "nbformat": 4,
 "nbformat_minor": 2
}
