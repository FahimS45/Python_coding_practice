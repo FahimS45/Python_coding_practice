{
 "cells": [
  {
   "cell_type": "code",
   "execution_count": 39,
   "metadata": {},
   "outputs": [
    {
     "name": "stdout",
     "output_type": "stream",
     "text": [
      "#\n",
      "##\n",
      "###\n",
      "####\n",
      "========================\n",
      "####\n",
      "###\n",
      "##\n",
      "#\n",
      "========================\n",
      "   #\n",
      "  ##\n",
      " ###\n",
      "####\n",
      "========================\n",
      "####\n",
      " ###\n",
      "  ##\n",
      "   #\n"
     ]
    }
   ],
   "source": [
    "y = int(input('Please enter your digit: '))\n",
    "x = y\n",
    "\n",
    "for each in range(x):\n",
    "    each += 1\n",
    "    print(each * '#')\n",
    "\n",
    "print(f'========================')\n",
    "x = y\n",
    "\n",
    "for each in range(x):\n",
    "    print(x * '#')\n",
    "    x -= 1\n",
    "\n",
    "print(f'========================')\n",
    "x = y\n",
    "\n",
    "for each in range(x):\n",
    "    each += 1\n",
    "    space = x - each\n",
    "    print(space * ' ' + each * '#')\n",
    "\n",
    "print(f'========================')\n",
    "x = y\n",
    "\n",
    "for each in range(x):\n",
    "    print(each * ' ' + x * '#')\n",
    "    x -= 1\n"
   ]
  },
  {
   "cell_type": "code",
   "execution_count": 36,
   "metadata": {},
   "outputs": [
    {
     "name": "stdout",
     "output_type": "stream",
     "text": [
      "  #\n",
      " ##\n",
      "###\n"
     ]
    }
   ],
   "source": [
    "n = int(input('Please enter your digit: '))\n",
    "\n",
    "if n > 0 and n <= 100:\n",
    "    \n",
    "    for each in range(n):\n",
    "        each += 1\n",
    "        space = n - each\n",
    "        print(' ' * space + each * '#')"
   ]
  }
 ],
 "metadata": {
  "kernelspec": {
   "display_name": "Python 3",
   "language": "python",
   "name": "python3"
  },
  "language_info": {
   "codemirror_mode": {
    "name": "ipython",
    "version": 3
   },
   "file_extension": ".py",
   "mimetype": "text/x-python",
   "name": "python",
   "nbconvert_exporter": "python",
   "pygments_lexer": "ipython3",
   "version": "3.11.4"
  }
 },
 "nbformat": 4,
 "nbformat_minor": 2
}
