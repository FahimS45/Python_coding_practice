{
 "cells": [
  {
   "cell_type": "code",
   "execution_count": 4,
   "metadata": {},
   "outputs": [],
   "source": [
    "class Player:\n",
    "    team_runs = 0\n",
    "    total_players = 0\n",
    "\n",
    "    def __init__(self, run=0):\n",
    "        self.run = run\n",
    "        Player.total_players += 1\n",
    "\n",
    "    def hit_six(self):\n",
    "        self.run += 6\n",
    "        Player.team_runs += 6\n",
    "    \n",
    "    def hit_four(self):\n",
    "        self.run += 4\n",
    "        Player.team_runs += 4\n",
    "\n",
    "    def single_run(self):\n",
    "        self.run += 1\n",
    "        Player.team_runs += 1\n",
    "\n",
    "    def double_run(self):\n",
    "        self.run += 2\n",
    "        Player.team_runs += 2\n",
    "\n",
    "    def triple_run(self):\n",
    "        self.run += 3\n",
    "        Player.team_runs += 3\n",
    "\n",
    "    def details(self):\n",
    "        print(f\"Player's run: {self.run}\\nTeam's total run: {Player.team_runs}\\nTotal players reported: {Player.total_players}\")\n",
    "\n",
    "\n"
   ]
  },
  {
   "cell_type": "code",
   "execution_count": 5,
   "metadata": {},
   "outputs": [],
   "source": [
    "Tamim = Player()\n",
    "Sakib = Player()"
   ]
  },
  {
   "cell_type": "code",
   "execution_count": 6,
   "metadata": {},
   "outputs": [
    {
     "name": "stdout",
     "output_type": "stream",
     "text": [
      "Player's run: 4\n",
      "Team's total run: 13\n",
      "Total players reported: 2\n",
      "Player's run: 9\n",
      "Team's total run: 13\n",
      "Total players reported: 2\n"
     ]
    }
   ],
   "source": [
    "Tamim.hit_six()\n",
    "Sakib.hit_four()\n",
    "Tamim.triple_run()\n",
    "\n",
    "Sakib.details()\n",
    "Tamim.details()"
   ]
  }
 ],
 "metadata": {
  "kernelspec": {
   "display_name": "Python 3",
   "language": "python",
   "name": "python3"
  },
  "language_info": {
   "codemirror_mode": {
    "name": "ipython",
    "version": 3
   },
   "file_extension": ".py",
   "mimetype": "text/x-python",
   "name": "python",
   "nbconvert_exporter": "python",
   "pygments_lexer": "ipython3",
   "version": "3.11.4"
  }
 },
 "nbformat": 4,
 "nbformat_minor": 2
}
