{
 "cells": [
  {
   "cell_type": "code",
   "execution_count": 11,
   "metadata": {},
   "outputs": [],
   "source": [
    "class Student:\n",
    "    uni_name = \"KUET\"\n",
    "    Dept_name = \"BECM\"\n",
    "\n",
    "    def __init__(self, name, roll):\n",
    "        self.name = name\n",
    "        self.__roll = roll\n",
    "\n",
    "    def details(self):\n",
    "        print(f'Name: {self.name}\\nUniversity: {Student.uni_name}\\nDepartment Name: {Student.Dept_name}\\nRoll no: {self.__roll}')\n",
    "\n",
    "    def set_roll(self, new_roll):\n",
    "        self.__roll = new_roll\n",
    "    \n",
    "    def get_roll(self):\n",
    "        return print(f'New roll: {self.__roll}')\n",
    "    \n",
    "    @classmethod\n",
    "    def update__names(cls, updated_name_uni, updated_name_dept):\n",
    "        Student.uni_name = updated_name_uni\n",
    "        Student.Dept_name = updated_name_dept\n",
    "\n",
    "    @classmethod\n",
    "    def separate_string(cls, value):\n",
    "        name, roll = value.split(\"-\")\n",
    "        obj = cls(name, roll)\n",
    "        return obj\n",
    "    \n",
    "    @staticmethod\n",
    "    def check_uni_address(name):\n",
    "        if name == \"KUET\":\n",
    "            print(\"Fulbarigate, Khulna\")\n",
    "        else:\n",
    "            print(\"Not found!\")"
   ]
  },
  {
   "cell_type": "code",
   "execution_count": 12,
   "metadata": {},
   "outputs": [],
   "source": [
    "s1 = Student(\"Amit\", \"1523007\")\n",
    "s2 = Student(\"Shoaib\", \"1523001\")"
   ]
  },
  {
   "cell_type": "code",
   "execution_count": 13,
   "metadata": {},
   "outputs": [
    {
     "name": "stdout",
     "output_type": "stream",
     "text": [
      "Name: Amit\n",
      "University: KUET\n",
      "Department Name: BECM\n",
      "Roll no: 1523007\n"
     ]
    }
   ],
   "source": [
    "s1.details()"
   ]
  },
  {
   "cell_type": "code",
   "execution_count": 16,
   "metadata": {},
   "outputs": [
    {
     "name": "stdout",
     "output_type": "stream",
     "text": [
      "Fulbarigate, Khulna\n"
     ]
    }
   ],
   "source": [
    "Student.check_uni_address('KUET')"
   ]
  },
  {
   "cell_type": "code",
   "execution_count": 18,
   "metadata": {},
   "outputs": [
    {
     "name": "stdout",
     "output_type": "stream",
     "text": [
      "Name: Amit\n",
      "University: Khulna University of Enginnering and Technology\n",
      "Department Name: Building Engineering and Construction Management\n",
      "Roll no: 1523007\n"
     ]
    }
   ],
   "source": [
    "Student.update__names('Khulna University of Enginnering and Technology', 'Building Engineering and Construction Management')\n",
    "s1.details()"
   ]
  },
  {
   "cell_type": "code",
   "execution_count": 22,
   "metadata": {},
   "outputs": [
    {
     "name": "stdout",
     "output_type": "stream",
     "text": [
      "New roll: 1523006\n"
     ]
    }
   ],
   "source": [
    "s1.set_roll(1523006)\n",
    "s1.get_roll()"
   ]
  },
  {
   "cell_type": "code",
   "execution_count": 23,
   "metadata": {},
   "outputs": [
    {
     "name": "stdout",
     "output_type": "stream",
     "text": [
      "Name: Amit\n",
      "University: Khulna University of Enginnering and Technology\n",
      "Department Name: Building Engineering and Construction Management\n",
      "Roll no: 1523006\n"
     ]
    }
   ],
   "source": [
    "s1.details()"
   ]
  },
  {
   "cell_type": "code",
   "execution_count": 25,
   "metadata": {},
   "outputs": [
    {
     "name": "stdout",
     "output_type": "stream",
     "text": [
      "Name: Limon\n",
      "University: Khulna University of Enginnering and Technology\n",
      "Department Name: Building Engineering and Construction Management\n",
      "Roll no: 1523037\n"
     ]
    }
   ],
   "source": [
    "s3 = Student.separate_string('Limon-1523037')\n",
    "s3.details()"
   ]
  }
 ],
 "metadata": {
  "kernelspec": {
   "display_name": "Python 3",
   "language": "python",
   "name": "python3"
  },
  "language_info": {
   "codemirror_mode": {
    "name": "ipython",
    "version": 3
   },
   "file_extension": ".py",
   "mimetype": "text/x-python",
   "name": "python",
   "nbconvert_exporter": "python",
   "pygments_lexer": "ipython3",
   "version": "3.11.4"
  }
 },
 "nbformat": 4,
 "nbformat_minor": 2
}
