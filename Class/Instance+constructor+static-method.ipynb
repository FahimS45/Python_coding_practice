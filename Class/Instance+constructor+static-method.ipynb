{
 "cells": [
  {
   "cell_type": "code",
   "execution_count": null,
   "metadata": {},
   "outputs": [],
   "source": [
    "class Student:\n",
    "    uni_name = \"KUET\"\n",
    "    Dept_name = \"BECM\"\n",
    "\n",
    "    def __init__(self, name, roll):\n",
    "        self.name = name\n",
    "        self.__roll = roll\n",
    "\n",
    "    def details(self):\n",
    "        print(f'Name: {self.name}, Roll no: {self.__roll}')\n",
    "\n",
    "    def set_roll(self, new_roll):\n",
    "        self.__roll = new_roll\n",
    "    \n",
    "    def get_roll(self):\n",
    "        return print(f'New roll: {self.__roll}')\n",
    "    \n",
    "    @classmethod\n",
    "    \n"
   ]
  }
 ],
 "metadata": {
  "language_info": {
   "name": "python"
  }
 },
 "nbformat": 4,
 "nbformat_minor": 2
}
