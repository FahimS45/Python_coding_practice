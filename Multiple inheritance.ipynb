{
 "cells": [
  {
   "cell_type": "code",
   "execution_count": 18,
   "metadata": {},
   "outputs": [],
   "source": [
    "class A:\n",
    "    def __init__ (self):\n",
    "        print(f'__init__ of class A')\n",
    "    def method_1 (self):\n",
    "        print(f'Method 1 of class A')\n",
    "\n",
    "class B:\n",
    "    def __init__ (self):\n",
    "        print(f'__init__ of class B')\n",
    "\n",
    "    def method_2(self):\n",
    "        print(f'Method 2 of class B')\n",
    "\n",
    "class C(A,B):\n",
    "    def __init__(self):\n",
    "        print(f'A child class of (A,B) has been created successfully!')\n",
    "\n",
    "    def method_3(self):\n",
    "        B.__init__(self)\n",
    "        super().__init__()"
   ]
  },
  {
   "cell_type": "code",
   "execution_count": 19,
   "metadata": {},
   "outputs": [
    {
     "name": "stdout",
     "output_type": "stream",
     "text": [
      "A child class of (A,B) has been created successfully!\n"
     ]
    }
   ],
   "source": [
    "c1 = C()"
   ]
  },
  {
   "cell_type": "code",
   "execution_count": 20,
   "metadata": {},
   "outputs": [
    {
     "name": "stdout",
     "output_type": "stream",
     "text": [
      "__init__ of class B\n",
      "__init__ of class A\n"
     ]
    }
   ],
   "source": [
    "c1.method_3()"
   ]
  }
 ],
 "metadata": {
  "kernelspec": {
   "display_name": "Python 3",
   "language": "python",
   "name": "python3"
  },
  "language_info": {
   "codemirror_mode": {
    "name": "ipython",
    "version": 3
   },
   "file_extension": ".py",
   "mimetype": "text/x-python",
   "name": "python",
   "nbconvert_exporter": "python",
   "pygments_lexer": "ipython3",
   "version": "3.11.4"
  }
 },
 "nbformat": 4,
 "nbformat_minor": 2
}
