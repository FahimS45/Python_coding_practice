{
 "cells": [
  {
   "cell_type": "code",
   "execution_count": 2,
   "metadata": {},
   "outputs": [
    {
     "name": "stdout",
     "output_type": "stream",
     "text": [
      "Method inside: 60\n",
      "Method inside: ['Green', 'Blue', 'Red', 'Gray']\n",
      "Method outside: 5\n",
      "Method outside: ['Green', 'Blue', 'Red', 'Gray']\n"
     ]
    }
   ],
   "source": [
    "class Cat:\n",
    "    def __init__(self, color, action):\n",
    "        self.color = color\n",
    "        self.action = action\n",
    "    \n",
    "    def view(self, num, clr):\n",
    "        x = 55 + num\n",
    "        clr[0] = 'Green'\n",
    "        print(f'Method inside: {x}')\n",
    "        print(f'Method inside: {clr}')\n",
    "#================================================\n",
    "        \n",
    "colors = ['Black', 'Blue', 'Red', 'Gray'] #pass by referencne\n",
    "x = 5 #pass by value\n",
    "c1 = Cat('White', 'jumping')\n",
    "c1.view(x, colors)\n",
    "print(f'Method outside: {x}')\n",
    "print(f'Method outside: {colors}')\n",
    "\n",
    "\n"
   ]
  }
 ],
 "metadata": {
  "kernelspec": {
   "display_name": "Python 3",
   "language": "python",
   "name": "python3"
  },
  "language_info": {
   "codemirror_mode": {
    "name": "ipython",
    "version": 3
   },
   "file_extension": ".py",
   "mimetype": "text/x-python",
   "name": "python",
   "nbconvert_exporter": "python",
   "pygments_lexer": "ipython3",
   "version": "3.11.4"
  }
 },
 "nbformat": 4,
 "nbformat_minor": 2
}
