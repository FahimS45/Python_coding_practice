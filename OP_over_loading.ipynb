{
 "cells": [
  {
   "cell_type": "code",
   "execution_count": 11,
   "metadata": {},
   "outputs": [],
   "source": [
    "class data:\n",
    "    def __init__(self, num):\n",
    "        self.num = num\n",
    "        \n",
    "    def __add__(self, other):\n",
    "        return self.num + other.num"
   ]
  },
  {
   "cell_type": "code",
   "execution_count": 15,
   "metadata": {},
   "outputs": [
    {
     "data": {
      "text/plain": [
       "30"
      ]
     },
     "execution_count": 15,
     "metadata": {},
     "output_type": "execute_result"
    }
   ],
   "source": [
    "cal1 = data(10)\n",
    "cal2 = data(20)\n",
    "\n",
    "cal1 + cal2\n"
   ]
  },
  {
   "cell_type": "code",
   "execution_count": 32,
   "metadata": {},
   "outputs": [],
   "source": [
    "class House:\n",
    "    def __init__(self, w, d):\n",
    "        self.windows = w\n",
    "        self.doors = d\n",
    "\n",
    "    def view(self):\n",
    "        print(f'The house has {self.windows} windows and {self.doors} doors')\n",
    "\n",
    "    def __add__(self, other):\n",
    "        new_h_windows = self.windows + other.windows\n",
    "        new_h_doors = self.doors + other.windows\n",
    "        obj = House(new_h_windows, new_h_doors) \n",
    "        return obj"
   ]
  },
  {
   "cell_type": "code",
   "execution_count": 35,
   "metadata": {},
   "outputs": [
    {
     "name": "stdout",
     "output_type": "stream",
     "text": [
      "The house has 22 windows and 15 doors\n"
     ]
    }
   ],
   "source": [
    "h1 = House(10, 3)\n",
    "h2 = House(12, 4)\n",
    "\n",
    "#h1.view()\n",
    "\n",
    "h3 = h1+h2\n",
    "h3.view()"
   ]
  }
 ],
 "metadata": {
  "kernelspec": {
   "display_name": "Python 3",
   "language": "python",
   "name": "python3"
  },
  "language_info": {
   "codemirror_mode": {
    "name": "ipython",
    "version": 3
   },
   "file_extension": ".py",
   "mimetype": "text/x-python",
   "name": "python",
   "nbconvert_exporter": "python",
   "pygments_lexer": "ipython3",
   "version": "3.11.4"
  }
 },
 "nbformat": 4,
 "nbformat_minor": 2
}
