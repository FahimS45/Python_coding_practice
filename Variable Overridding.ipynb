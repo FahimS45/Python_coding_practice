{
 "cells": [
  {
   "cell_type": "code",
   "execution_count": 6,
   "metadata": {},
   "outputs": [],
   "source": [
    "class Animal:\n",
    "    def __init__(self, name):\n",
    "        self.name = name\n",
    "        self.color ='White'\n",
    "        print(f'Animal class has been successfully created!')\n",
    "\n",
    "    def eat(self):\n",
    "        print(f'{self.color} {self.name} is eating.')\n",
    "\n",
    "class Dog(Animal):\n",
    "    def __init__ (self, name, color):\n",
    "        super().__init__(name)\n",
    "        self.color = color   # Variable overridding\n",
    "\n",
    "    def bark(self):\n",
    "        print(f'{self.color} {self.name} is barking.')"
   ]
  },
  {
   "cell_type": "code",
   "execution_count": 7,
   "metadata": {},
   "outputs": [
    {
     "name": "stdout",
     "output_type": "stream",
     "text": [
      "Animal class has been successfully created!\n"
     ]
    }
   ],
   "source": [
    "c1 = Animal('cat')"
   ]
  },
  {
   "cell_type": "code",
   "execution_count": 8,
   "metadata": {},
   "outputs": [
    {
     "name": "stdout",
     "output_type": "stream",
     "text": [
      "White cat is eating.\n"
     ]
    }
   ],
   "source": [
    "c1.eat()"
   ]
  },
  {
   "cell_type": "code",
   "execution_count": 9,
   "metadata": {},
   "outputs": [
    {
     "name": "stdout",
     "output_type": "stream",
     "text": [
      "Animal class has been successfully created!\n"
     ]
    }
   ],
   "source": [
    "d1=Dog('dog', 'Brown')"
   ]
  },
  {
   "cell_type": "code",
   "execution_count": 11,
   "metadata": {},
   "outputs": [
    {
     "name": "stdout",
     "output_type": "stream",
     "text": [
      "Brown dog is eating.\n"
     ]
    }
   ],
   "source": [
    "d1.eat()"
   ]
  },
  {
   "cell_type": "code",
   "execution_count": 12,
   "metadata": {},
   "outputs": [
    {
     "name": "stdout",
     "output_type": "stream",
     "text": [
      "Brown dog is barking.\n"
     ]
    }
   ],
   "source": [
    "d1.bark()"
   ]
  }
 ],
 "metadata": {
  "kernelspec": {
   "display_name": "Python 3",
   "language": "python",
   "name": "python3"
  },
  "language_info": {
   "codemirror_mode": {
    "name": "ipython",
    "version": 3
   },
   "file_extension": ".py",
   "mimetype": "text/x-python",
   "name": "python",
   "nbconvert_exporter": "python",
   "pygments_lexer": "ipython3",
   "version": "3.11.4"
  }
 },
 "nbformat": 4,
 "nbformat_minor": 2
}
